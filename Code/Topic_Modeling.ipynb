{
 "cells": [
  {
   "cell_type": "markdown",
   "metadata": {},
   "source": [
    "# Topic Modeling \n",
    "\n",
    "One of the primary applications of natural language processing is to automatically extract what topics people are discussing from large volumes of text. Some examples of large text could be feeds from social media, customer reviews of hotels, movies, user feedbacks, news stories, e-mails of customer complaints etc.\n",
    "\n",
    "Knowing what people are talking about and understanding their problems and opinions is highly valuable to businesses, administrators, political campaigns. In our case, extracting the topics of product reviews can be useful to companies that sell products, who can use these results to improve their products, increase both sales and customer experiences.\n",
    "\n",
    "Since it's really hard to manually read through such large volumes and compile the topics, it is important to find a way to do this in an automated way. In this notebook we therefore want to pursue this task to extract the main topics present in the negative reviews in our dataset. We focus on negative reviews because we believe that it is more interesting for companies selling products to understand why a negative review is negative than to know why a positive review is positive."
   ]
  },
  {
   "cell_type": "markdown",
   "metadata": {},
   "source": [
    "## Import Libraries"
   ]
  },
  {
   "cell_type": "code",
   "execution_count": 5,
   "metadata": {},
   "outputs": [],
   "source": [
    "import pandas as pd\n",
    "import numpy as np\n",
    "import os\n",
    "import sys\n",
    "from pprint import pprint\n",
    "import re\n",
    "import matplotlib.pyplot as plt\n",
    "import warnings\n",
    "warnings.filterwarnings(\"ignore\",category=DeprecationWarning)\n",
    "\n",
    "# Enable logging for gensim\n",
    "import logging\n",
    "logging.basicConfig(format='%(asctime)s : %(levelname)s : %(message)s', level=logging.ERROR)\n",
    "\n",
    "# spacy for lemmatization\n",
    "import spacy\n",
    "\n",
    "# Gensim\n",
    "import gensim\n",
    "import gensim.corpora as corpora\n",
    "from gensim.utils import simple_preprocess\n",
    "from gensim.models import CoherenceModel\n",
    "\n",
    "# Plotting tools\n",
    "import pyLDAvis\n",
    "import pyLDAvis.gensim  \n",
    "\n",
    "# NLTK Stop words\n",
    "from nltk.corpus import stopwords\n",
    "stop_words = stopwords.words('english')\n",
    "stop_words.extend(['from', 'subject', 're', 'edu', 'use'])"
   ]
  },
  {
   "cell_type": "markdown",
   "metadata": {},
   "source": [
    "## Load Dataset\n",
    "\n",
    "We first proceed to load the dataset we will be working with and save it in the DataFrame `df`. "
   ]
  },
  {
   "cell_type": "code",
   "execution_count": 6,
   "metadata": {},
   "outputs": [],
   "source": [
    "#Get the directory of the script\n",
    "script_directory = os.getcwd()\n",
    "data_name=\"../Final_Dataset/Dataset_final.csv\"\n",
    "#Combine the script directory and folder name to get the full path\n",
    "data_path = os.path.join(script_directory, data_name)\n",
    "\n",
    "df=pd.read_csv(data_path)"
   ]
  },
  {
   "cell_type": "markdown",
   "metadata": {},
   "source": [
    "We delete the `title` column, as we will only work with entire product reviews. We do this because the titles alone are not long enough to extract interesting topics. Entire reviews are longer and more detailed, and allow us to make a more meaningful distinction of topics. Then we only focus on data that have `polarity` equal to 1. In fact, as explained in the introduction, our study will only focus on negative reviews."
   ]
  },
  {
   "cell_type": "code",
   "execution_count": 7,
   "metadata": {},
   "outputs": [],
   "source": [
    "# Drop the 'title' column from the DataFrame\n",
    "df = df.drop(columns=\"title\")\n",
    "# Filter the DataFrame to include only 'polarity' equal to 1 rows\n",
    "df = df[df.polarity == 1]\n"
   ]
  },
  {
   "cell_type": "code",
   "execution_count": 8,
   "metadata": {},
   "outputs": [
    {
     "data": {
      "text/html": [
       "<div>\n",
       "<style scoped>\n",
       "    .dataframe tbody tr th:only-of-type {\n",
       "        vertical-align: middle;\n",
       "    }\n",
       "\n",
       "    .dataframe tbody tr th {\n",
       "        vertical-align: top;\n",
       "    }\n",
       "\n",
       "    .dataframe thead th {\n",
       "        text-align: right;\n",
       "    }\n",
       "</style>\n",
       "<table border=\"1\" class=\"dataframe\">\n",
       "  <thead>\n",
       "    <tr style=\"text-align: right;\">\n",
       "      <th></th>\n",
       "      <th>polarity</th>\n",
       "      <th>text</th>\n",
       "    </tr>\n",
       "  </thead>\n",
       "  <tbody>\n",
       "    <tr>\n",
       "      <th>0</th>\n",
       "      <td>1</td>\n",
       "      <td>these looked really nice, but they had this we...</td>\n",
       "    </tr>\n",
       "    <tr>\n",
       "      <th>1</th>\n",
       "      <td>1</td>\n",
       "      <td>i agree with buyers who say that the product i...</td>\n",
       "    </tr>\n",
       "    <tr>\n",
       "      <th>2</th>\n",
       "      <td>1</td>\n",
       "      <td>i bought this for my wife for christmas and sh...</td>\n",
       "    </tr>\n",
       "    <tr>\n",
       "      <th>3</th>\n",
       "      <td>1</td>\n",
       "      <td>this bra is definitely not what i was hoping f...</td>\n",
       "    </tr>\n",
       "    <tr>\n",
       "      <th>4</th>\n",
       "      <td>1</td>\n",
       "      <td>normally i would slap someone who said what i ...</td>\n",
       "    </tr>\n",
       "  </tbody>\n",
       "</table>\n",
       "</div>"
      ],
      "text/plain": [
       "   polarity                                               text\n",
       "0         1  these looked really nice, but they had this we...\n",
       "1         1  i agree with buyers who say that the product i...\n",
       "2         1  i bought this for my wife for christmas and sh...\n",
       "3         1  this bra is definitely not what i was hoping f...\n",
       "4         1  normally i would slap someone who said what i ..."
      ]
     },
     "execution_count": 8,
     "metadata": {},
     "output_type": "execute_result"
    }
   ],
   "source": [
    "df.head()"
   ]
  },
  {
   "cell_type": "code",
   "execution_count": 9,
   "metadata": {},
   "outputs": [
    {
     "data": {
      "text/plain": [
       "polarity    0\n",
       "text        0\n",
       "dtype: int64"
      ]
     },
     "execution_count": 9,
     "metadata": {},
     "output_type": "execute_result"
    }
   ],
   "source": [
    "df.isna().sum()"
   ]
  },
  {
   "cell_type": "markdown",
   "metadata": {},
   "source": [
    "## Text Prepocessing\n",
    "\n",
    "In this section we pre-process the text data, so that it is ready for the application of the `LDA (Latent Dirichlet Allocation)` algorithm which we will use to identify the various topics.\n",
    "\n",
    "### Text Cleaning\n",
    "\n",
    "We begin by defining the `preprocess_senteces` function, which is responsible for this conversion: it strips out email addresses, spacing characters and single quotes, splits the text into words using Gensim's `simple_preprocess` function, and removes the punctuations."
   ]
  },
  {
   "cell_type": "code",
   "execution_count": 10,
   "metadata": {},
   "outputs": [],
   "source": [
    "def preprocess_senteces(sentences):\n",
    "    '''\n",
    "    Function to preprocess sentences by removing emails, newline characters, and single quotes,\n",
    "    and then tokenize the sentences into words using Gensim's simple_preprocess.\n",
    "\n",
    "    Parameters:\n",
    "    - sentences: List of sentences to preprocess.\n",
    "\n",
    "    Yields:\n",
    "    - List of words for each sentence after preprocessing.\n",
    "    '''\n",
    "    for sent in sentences:\n",
    "        sent = re.sub('\\S*@\\S*\\s?', '', sent)\n",
    "        sent = re.sub('\\s+', ' ', sent)\n",
    "        sent = re.sub(\"\\'\", \"\", sent)\n",
    "        \n",
    "        # Tokenize the sentence into words\n",
    "        sent = gensim.utils.simple_preprocess(str(sent), deacc=True) # deacc=True removes punctuations\n",
    "        \n",
    "        yield sent\n"
   ]
  },
  {
   "cell_type": "markdown",
   "metadata": {},
   "source": [
    "At this point, we convert the text of the reviews into a list of words. This is important because LDA operates on a word-based representation of the text. We then pass each review through the `preprocess_sentences` function."
   ]
  },
  {
   "cell_type": "code",
   "execution_count": 11,
   "metadata": {},
   "outputs": [
    {
     "name": "stdout",
     "output_type": "stream",
     "text": [
      "['these looked really nice, but they had this weird wood smell, so i returned '\n",
      " \"them. i own a clear plastic olde thompson set, which i've had for years, but \"\n",
      " 'the pepper mill broke. the company sent me a new pepper mill since there is '\n",
      " 'a lifetime warranty. great experience with olde thompson, just not with this '\n",
      " 'particular product.']\n"
     ]
    }
   ],
   "source": [
    "# Convert the 'text' column of the DataFrame to a list\n",
    "data = df.text.values.tolist()\n",
    "pprint(data[:1])\n"
   ]
  },
  {
   "cell_type": "code",
   "execution_count": 12,
   "metadata": {},
   "outputs": [
    {
     "name": "stdout",
     "output_type": "stream",
     "text": [
      "[['these',\n",
      "  'looked',\n",
      "  'really',\n",
      "  'nice',\n",
      "  'but',\n",
      "  'they',\n",
      "  'had',\n",
      "  'this',\n",
      "  'weird',\n",
      "  'wood',\n",
      "  'smell',\n",
      "  'so',\n",
      "  'returned',\n",
      "  'them',\n",
      "  'own',\n",
      "  'clear',\n",
      "  'plastic',\n",
      "  'olde',\n",
      "  'thompson',\n",
      "  'set',\n",
      "  'which',\n",
      "  'ive',\n",
      "  'had',\n",
      "  'for',\n",
      "  'years',\n",
      "  'but',\n",
      "  'the',\n",
      "  'pepper',\n",
      "  'mill',\n",
      "  'broke',\n",
      "  'the',\n",
      "  'company',\n",
      "  'sent',\n",
      "  'me',\n",
      "  'new',\n",
      "  'pepper',\n",
      "  'mill',\n",
      "  'since',\n",
      "  'there',\n",
      "  'is',\n",
      "  'lifetime',\n",
      "  'warranty',\n",
      "  'great',\n",
      "  'experience',\n",
      "  'with',\n",
      "  'olde',\n",
      "  'thompson',\n",
      "  'just',\n",
      "  'not',\n",
      "  'with',\n",
      "  'this',\n",
      "  'particular',\n",
      "  'product']]\n"
     ]
    }
   ],
   "source": [
    "# Convert the text data into words using the sent_to_words function\n",
    "data_words = list(preprocess_senteces(data))\n",
    "pprint(data_words[:1])\n"
   ]
  },
  {
   "cell_type": "markdown",
   "metadata": {},
   "source": [
    "### Create Bigram and Trigram Models\n",
    "\n",
    "We now construct models of bigrams and trigrams for our text corpus. These models identify common phrases of two and three words respectively. We use `Phraser` objects to efficiently apply the models to our documents. The two important arguments to Phrases are `min_count` and `threshold`. The higher the values of these param, the harder it is for words to be combined to bigrams."
   ]
  },
  {
   "cell_type": "code",
   "execution_count": 13,
   "metadata": {},
   "outputs": [],
   "source": [
    "# Build the bigram and trigram models\n",
    "bigram = gensim.models.Phrases(data_words, min_count=5, threshold=100) # higher threshold fewer phrases.\n",
    "trigram = gensim.models.Phrases(bigram[data_words], threshold=100)  \n",
    "\n",
    "# Create a Phraser object for the bigram and trigram models \n",
    "bigram_mod = gensim.models.phrases.Phraser(bigram)\n",
    "trigram_mod = gensim.models.phrases.Phraser(trigram)"
   ]
  },
  {
   "cell_type": "code",
   "execution_count": 14,
   "metadata": {},
   "outputs": [
    {
     "name": "stdout",
     "output_type": "stream",
     "text": [
      "['these',\n",
      " 'looked',\n",
      " 'really',\n",
      " 'nice',\n",
      " 'but',\n",
      " 'they',\n",
      " 'had',\n",
      " 'this',\n",
      " 'weird',\n",
      " 'wood',\n",
      " 'smell',\n",
      " 'so',\n",
      " 'returned',\n",
      " 'them',\n",
      " 'own',\n",
      " 'clear',\n",
      " 'plastic',\n",
      " 'olde',\n",
      " 'thompson',\n",
      " 'set',\n",
      " 'which',\n",
      " 'ive',\n",
      " 'had',\n",
      " 'for',\n",
      " 'years',\n",
      " 'but',\n",
      " 'the',\n",
      " 'pepper_mill',\n",
      " 'broke',\n",
      " 'the',\n",
      " 'company',\n",
      " 'sent',\n",
      " 'me',\n",
      " 'new',\n",
      " 'pepper_mill',\n",
      " 'since',\n",
      " 'there',\n",
      " 'is',\n",
      " 'lifetime_warranty',\n",
      " 'great',\n",
      " 'experience',\n",
      " 'with',\n",
      " 'olde',\n",
      " 'thompson',\n",
      " 'just',\n",
      " 'not',\n",
      " 'with',\n",
      " 'this',\n",
      " 'particular',\n",
      " 'product']\n"
     ]
    }
   ],
   "source": [
    "pprint(trigram_mod[bigram_mod[data_words[0]]])"
   ]
  },
  {
   "cell_type": "markdown",
   "metadata": {},
   "source": [
    "### Stopwords, Bigrams and Lemmatization\n",
    "\n",
    "Finally, we define several functions to process our text data before applying topic modelling algorithms. The `remove_stopwords` function removes the stop words from each document in the text list, returning a list of documents without the stop words. The `make_bigrams` function generates bigrams for each document in the text list using the previously created bigram template. Similarly, the `make_trigrams` function generates trigrams for each document using both the biggrams model and the trigrams model.\n",
    "\n",
    "We then define the `lemmatization` function, which lemmatises documents by retaining only the specified part-of-speech tags (in this case nouns, adjectives, verbs and adverbs). This function uses the `spaCy` model to process each sentence and returns a list of lemmatised documents.\n",
    "\n",
    "These operations allow us to prepare our text data efficiently for subsequent analysis, such as the application of the `Latent Dirichlet Allocation (LDA)` algorithm for topic modelling."
   ]
  },
  {
   "cell_type": "code",
   "execution_count": 15,
   "metadata": {},
   "outputs": [],
   "source": [
    "def remove_stopwords(texts):\n",
    "    '''\n",
    "    Remove stopwords from each document in the list of texts.\n",
    "    Parameters:\n",
    "        texts: List of documents where each document is a list of words\n",
    "    Returns:\n",
    "        List of documents with stopwords removed\n",
    "    '''\n",
    "    return [[word for word in simple_preprocess(str(doc)) if word not in stop_words] for doc in texts]"
   ]
  },
  {
   "cell_type": "code",
   "execution_count": 16,
   "metadata": {},
   "outputs": [],
   "source": [
    "def make_bigrams(texts):\n",
    "    '''\n",
    "    Generate bigrams for each document in the list of texts using the bigram model.\n",
    "    Parameters:\n",
    "        texts: List of documents where each document is a list of words\n",
    "    Returns:\n",
    "        List of documents with bigrams generated\n",
    "    '''\n",
    "    return [bigram_mod[doc] for doc in texts]"
   ]
  },
  {
   "cell_type": "code",
   "execution_count": 17,
   "metadata": {},
   "outputs": [],
   "source": [
    "def make_trigrams(texts):\n",
    "    '''\n",
    "    Generate trigrams for each document in the list of texts using both the bigram and trigram models.\n",
    "    Parameters:\n",
    "        texts: List of documents where each document is a list of words\n",
    "    Returns:\n",
    "        List of documents with trigrams generated\n",
    "    '''\n",
    "    return [trigram_mod[bigram_mod[doc]] for doc in texts]"
   ]
  },
  {
   "cell_type": "code",
   "execution_count": 18,
   "metadata": {},
   "outputs": [],
   "source": [
    "def lemmatization(texts, allowed_postags=['NOUN', 'ADJ', 'VERB', 'ADV']):\n",
    "    '''\n",
    "    Lemmatize the documents, keeping only the specified part-of-speech tags.\n",
    "    Parameters:\n",
    "        texts: List of documents where each document is a list of words\n",
    "        allowed_postags: List of part-of-speech tags to keep after lemmatization\n",
    "    Returns:\n",
    "        texts_out: List of lemmatized documents\n",
    "    '''\n",
    "    texts_out = []\n",
    "    for sent in texts:\n",
    "        doc = nlp(\" \".join(sent))  # Process the sentence with spaCy\n",
    "        # Append the lemmatized tokens to the output list if their POS tag is in allowed_postags\n",
    "        texts_out.append([token.lemma_ for token in doc if token.pos_ in allowed_postags])\n",
    "    return texts_out"
   ]
  },
  {
   "cell_type": "code",
   "execution_count": 19,
   "metadata": {},
   "outputs": [],
   "source": [
    "# Remove Stop Words\n",
    "data_words_nostops = remove_stopwords(data_words)\n",
    "\n",
    "# Form Bigrams\n",
    "data_words_bigrams = make_bigrams(data_words_nostops)\n",
    "\n",
    "# Initialize spacy 'en' model, keeping only tagger component (for efficiency)\n",
    "nlp = spacy.load('en_core_web_sm', disable=['parser', 'ner'])\n",
    "\n",
    "# Do lemmatization keeping only noun, adj, vb, adv\n",
    "data_lemmatized = lemmatization(data_words_bigrams, allowed_postags=['NOUN', 'ADJ', 'VERB', 'ADV'])"
   ]
  },
  {
   "cell_type": "code",
   "execution_count": 20,
   "metadata": {},
   "outputs": [
    {
     "name": "stdout",
     "output_type": "stream",
     "text": [
      "[['look',\n",
      "  'really',\n",
      "  'nice',\n",
      "  'weird',\n",
      "  'wood',\n",
      "  'smell',\n",
      "  'return',\n",
      "  'clear',\n",
      "  'plastic',\n",
      "  'thompson',\n",
      "  'set',\n",
      "  've',\n",
      "  'year',\n",
      "  'pepper_mill',\n",
      "  'broke',\n",
      "  'company',\n",
      "  'send',\n",
      "  'new',\n",
      "  'pepper_mill',\n",
      "  'lifetime_warranty',\n",
      "  'great',\n",
      "  'experience',\n",
      "  'particular',\n",
      "  'product']]\n"
     ]
    }
   ],
   "source": [
    "pprint(data_lemmatized[:1])"
   ]
  },
  {
   "cell_type": "markdown",
   "metadata": {},
   "source": [
    "## Build Topic Model\n",
    "\n",
    "In this section we define our Topic Modeling model, and we see the first results.\n",
    "\n",
    "Firstly, we create a dictionary and a corpus that will serve as the main input for the LDA topic modelling.\n",
    "- We use Gensim's `corpora.Dictionary` function to create a dictionary, `id2word`, from our lemmatised data. This dictionary contains a mapping between each unique word and a unique identifier (ID). In other words, the dictionary associates each word in our dataset with a unique ID.\n",
    "- We assign our lemmatised data to the variable `texts`. The corpus is a representation of our texts in a format that can be used by the LDA model.\n",
    "- We create the `corpus` using a list comprehension that calls the `doc2bow` method of the id2word dictionary for each text in texts. doc2bow transforms each document into a list of tuples, where each tuple contains a word ID and its number of occurrences in the corresponding document. This represents the frequency of terms in the documents."
   ]
  },
  {
   "cell_type": "code",
   "execution_count": 21,
   "metadata": {},
   "outputs": [],
   "source": [
    "# Create Dictionary\n",
    "id2word = corpora.Dictionary(data_lemmatized)\n",
    "texts = data_lemmatized\n",
    "# Term Document Frequency\n",
    "corpus = [id2word.doc2bow(text) for text in texts]"
   ]
  },
  {
   "cell_type": "code",
   "execution_count": 22,
   "metadata": {},
   "outputs": [
    {
     "name": "stdout",
     "output_type": "stream",
     "text": [
      "[[(0, 1),\n",
      "  (1, 1),\n",
      "  (2, 1),\n",
      "  (3, 1),\n",
      "  (4, 1),\n",
      "  (5, 1),\n",
      "  (6, 1),\n",
      "  (7, 1),\n",
      "  (8, 1),\n",
      "  (9, 1),\n",
      "  (10, 2),\n",
      "  (11, 1),\n",
      "  (12, 1),\n",
      "  (13, 1),\n",
      "  (14, 1),\n",
      "  (15, 1),\n",
      "  (16, 1),\n",
      "  (17, 1),\n",
      "  (18, 1),\n",
      "  (19, 1),\n",
      "  (20, 1),\n",
      "  (21, 1),\n",
      "  (22, 1)]]\n"
     ]
    }
   ],
   "source": [
    "pprint(corpus[:1])"
   ]
  },
  {
   "cell_type": "markdown",
   "metadata": {},
   "source": [
    "If we want to see which word a given id corresponds to, we can pass the id as a dictionary key. Or we can see a human-readable form of the corpus itself."
   ]
  },
  {
   "cell_type": "code",
   "execution_count": 23,
   "metadata": {},
   "outputs": [
    {
     "data": {
      "text/plain": [
       "'broke'"
      ]
     },
     "execution_count": 23,
     "metadata": {},
     "output_type": "execute_result"
    }
   ],
   "source": [
    "id2word[0]"
   ]
  },
  {
   "cell_type": "code",
   "execution_count": 24,
   "metadata": {},
   "outputs": [
    {
     "data": {
      "text/plain": [
       "[[('broke', 1),\n",
       "  ('clear', 1),\n",
       "  ('company', 1),\n",
       "  ('experience', 1),\n",
       "  ('great', 1),\n",
       "  ('lifetime_warranty', 1),\n",
       "  ('look', 1),\n",
       "  ('new', 1),\n",
       "  ('nice', 1),\n",
       "  ('particular', 1),\n",
       "  ('pepper_mill', 2),\n",
       "  ('plastic', 1),\n",
       "  ('product', 1),\n",
       "  ('really', 1),\n",
       "  ('return', 1),\n",
       "  ('send', 1),\n",
       "  ('set', 1),\n",
       "  ('smell', 1),\n",
       "  ('thompson', 1),\n",
       "  ('ve', 1),\n",
       "  ('weird', 1),\n",
       "  ('wood', 1),\n",
       "  ('year', 1)]]"
      ]
     },
     "execution_count": 24,
     "metadata": {},
     "output_type": "execute_result"
    }
   ],
   "source": [
    "# Human readable format of corpus (term-frequency)\n",
    "[[(id2word[id], freq) for id, freq in cp] for cp in corpus[:1]]"
   ]
  },
  {
   "cell_type": "markdown",
   "metadata": {},
   "source": [
    "Finally, we use Gensim's `LdaModel` function to create our LDA model, passing several key parameters:\n",
    "- `corpus=corpus`: We provide the corpus containing the bag-of-words (BoW) representation of our documents.\n",
    "- `id2word=id2word`: We provide the dictionary that maps each unique word to a unique ID.\n",
    "- `num_topics=8`: We specifie the number of topics that the model should find in the data. In this case, we decided to identify 8 topics.\n",
    "- `random_state=100`: We set a random seed to ensure the reproducibility of the results.\n",
    "- `update_every=1`: We set the model to update after each pass through the corpus.\n",
    "- `chunksize=100`: We define the size of the data blocks processed in a single pass.\n",
    "- `passes=10`: We specifie the number of passes the model must make over the entire corpus during training.\n",
    "- `alpha='auto`: We allow the model to automatically adjust the alpha hyperparameter, which controls the distribution of topics per document.\n",
    "- `per_word_topics=True`: We set the model to provide the probability of each word for each topic."
   ]
  },
  {
   "cell_type": "code",
   "execution_count": 35,
   "metadata": {},
   "outputs": [],
   "source": [
    "# Build LDA model\n",
    "lda_model = gensim.models.ldamodel.LdaModel(corpus=corpus,\n",
    "                                           id2word=id2word,\n",
    "                                           num_topics=8, \n",
    "                                           random_state=100,\n",
    "                                           update_every=1,\n",
    "                                           chunksize=100,\n",
    "                                           passes=10,\n",
    "                                           alpha='auto',\n",
    "                                           per_word_topics=True)\n"
   ]
  },
  {
   "cell_type": "markdown",
   "metadata": {},
   "source": [
    "### Model Perplexity and Coherence Score\n",
    "\n",
    "We now calculate the `Perplexity` and `Coherence Score` of the model defined above. Perplexity is a metric that measures how effective the model is at predicting a test sample, with lower values indicating better performance. In contrast, the Coherence Score is a metric that assesses the consistency of the topics generated by the model, with higher scores indicating greater consistency between topics."
   ]
  },
  {
   "cell_type": "code",
   "execution_count": 38,
   "metadata": {},
   "outputs": [
    {
     "name": "stdout",
     "output_type": "stream",
     "text": [
      "Perplexity:  -8.220545519231257\n",
      "Coherence Score:  0.432423448247795\n"
     ]
    }
   ],
   "source": [
    "# Compute Perplexity\n",
    "print('Perplexity: ', lda_model.log_perplexity(corpus))\n",
    "\n",
    "# Compute Coherence Score\n",
    "coherence_model_lda = CoherenceModel(model=lda_model, texts=data_lemmatized, dictionary=id2word, coherence='c_v')\n",
    "coherence_lda = coherence_model_lda.get_coherence()\n",
    "print('Coherence Score: ', coherence_lda)\n"
   ]
  },
  {
   "cell_type": "markdown",
   "metadata": {},
   "source": [
    "We can now use the metrics above to work out which is the best number of topics to identify in our text. To do this, we create a model that identifies a number of topics ranging from 4 to 8 topics, calculate `Coherence Score` and `Perplexity`, and see which model performs best."
   ]
  },
  {
   "cell_type": "code",
   "execution_count": 44,
   "metadata": {},
   "outputs": [
    {
     "name": "stdout",
     "output_type": "stream",
     "text": [
      "num_topics = 3, Perplexity = -7.864111793555117, Coherence Score = 0.4748321681078685\n",
      "num_topics = 4, Perplexity = -7.935639495693947, Coherence Score = 0.48663565175340207\n",
      "num_topics = 5, Perplexity = -7.985859037801747, Coherence Score = 0.4592557683780246\n",
      "num_topics = 6, Perplexity = -8.057814523732409, Coherence Score = 0.42843348984767643\n",
      "num_topics = 7, Perplexity = -8.119084076571166, Coherence Score = 0.44135146464121094\n",
      "num_topics = 8, Perplexity = -8.220545518598447, Coherence Score = 0.432423448247795\n",
      "num_topics = 9, Perplexity = -8.362669926532467, Coherence Score = 0.42134728111067765\n",
      "num_topics = 10, Perplexity = -8.609978373472051, Coherence Score = 0.4359016859025761\n"
     ]
    }
   ],
   "source": [
    "# Initialize lists to store coherence scores and perplexities\n",
    "coherence_scores = []\n",
    "perplexities = []\n",
    "num_topics_range = range(3, 11)\n",
    "\n",
    "for num_topics in num_topics_range:\n",
    "    # Build LDA model\n",
    "    lda_model = gensim.models.ldamodel.LdaModel(corpus=corpus,\n",
    "                                                id2word=id2word,\n",
    "                                                num_topics=num_topics, \n",
    "                                                random_state=100,\n",
    "                                                update_every=1,\n",
    "                                                chunksize=100,\n",
    "                                                passes=10,\n",
    "                                                alpha='auto',\n",
    "                                                per_word_topics=True)\n",
    "    \n",
    "    # Compute Perplexity\n",
    "    perplexity = lda_model.log_perplexity(corpus)\n",
    "    perplexities.append(perplexity)\n",
    "\n",
    "    # Compute Coherence Score\n",
    "    coherence_model_lda = CoherenceModel(model=lda_model, texts=data_lemmatized, dictionary=id2word, coherence='c_v')\n",
    "    coherence_lda = coherence_model_lda.get_coherence()\n",
    "    coherence_scores.append(coherence_lda)\n",
    "\n",
    "    print(f'num_topics = {num_topics}, Perplexity = {perplexity}, Coherence Score = {coherence_lda}')"
   ]
  },
  {
   "cell_type": "code",
   "execution_count": 46,
   "metadata": {},
   "outputs": [
    {
     "data": {
      "image/png": "[encoded data removed]",
      "text/plain": [
       "<Figure size 1200x600 with 1 Axes>"
      ]
     },
     "metadata": {},
     "output_type": "display_data"
    }
   ],
   "source": [
    "# Plot Perplexities\n",
    "plt.figure(figsize=(12, 6))\n",
    "plt.plot(num_topics_range, perplexities, marker='o', linestyle='-', color='r')\n",
    "plt.title('Perplexities for different number of topics')\n",
    "plt.xlabel('Number of Topics')\n",
    "plt.ylabel('Perplexity')\n",
    "plt.xticks(num_topics_range)\n",
    "plt.grid()\n",
    "\n",
    "# Add vertical line at num_topic = 8\n",
    "plt.axvline(x=10, color='g', linestyle='--', linewidth=2)\n",
    "\n",
    "plt.show()"
   ]
  },
  {
   "cell_type": "code",
   "execution_count": 47,
   "metadata": {},
   "outputs": [
    {
     "data": {
      "image/png": "[encoded data removed]",
      "text/plain": [
       "<Figure size 1200x600 with 1 Axes>"
      ]
     },
     "metadata": {},
     "output_type": "display_data"
    }
   ],
   "source": [
    "# Plot Coherence Scores\n",
    "plt.figure(figsize=(12, 6))\n",
    "plt.plot(num_topics_range, coherence_scores, marker='o', linestyle='-')\n",
    "plt.title('Coherence Scores for different number of topics')\n",
    "plt.xlabel('Number of Topics')\n",
    "plt.ylabel('Coherence Score')\n",
    "plt.xticks(num_topics_range)\n",
    "plt.grid()\n",
    "\n",
    "# Add vertical line at num_topic = 8\n",
    "plt.axvline(x=4, color='g', linestyle='--', linewidth=2)\n",
    "\n",
    "plt.show()"
   ]
  },
  {
   "cell_type": "markdown",
   "metadata": {},
   "source": [
    "As we can see from the two graphs, the best result for Perplexity does not correspond to the best result for Coherence Score. However, these two metrics serve different purposes. The Coherence Score is more important when it comes to interpreting the data and understanding the topics. This metric is preferred for qualitative analysis. On the other hand, Perplexity is more important when the goal is to build a model that generalizes well to new data.\n",
    "\n",
    "For the purposes of our task, we believe it is important to find a number of topics that achieves good results with both metrics. After considering the results for various numbers of topics, we found that the best balance of coherence and perplexity was achieved with `num_topics=8`. Therefore, we have decided to use this as the final number of topics."
   ]
  },
  {
   "cell_type": "code",
   "execution_count": 50,
   "metadata": {},
   "outputs": [],
   "source": [
    "# Build LDA model\n",
    "lda_model = gensim.models.ldamodel.LdaModel(corpus=corpus,\n",
    "                                           id2word=id2word,\n",
    "                                           num_topics=8, \n",
    "                                           random_state=100,\n",
    "                                           update_every=1,\n",
    "                                           chunksize=100,\n",
    "                                           passes=10,\n",
    "                                           alpha='auto',\n",
    "                                           per_word_topics=True)"
   ]
  },
  {
   "cell_type": "code",
   "execution_count": 51,
   "metadata": {},
   "outputs": [
    {
     "name": "stdout",
     "output_type": "stream",
     "text": [
      "[(0,\n",
      "  '0.040*\"get\" + 0.027*\"good\" + 0.025*\"time\" + 0.024*\"make\" + 0.023*\"well\" + '\n",
      "  '0.021*\"go\" + 0.019*\"even\" + 0.017*\"think\" + 0.016*\"really\" + 0.016*\"try\"'),\n",
      " (1,\n",
      "  '0.074*\"book\" + 0.027*\"read\" + 0.014*\"story\" + 0.014*\"write\" + 0.013*\"find\" '\n",
      "  '+ 0.011*\"character\" + 0.010*\"people\" + 0.010*\"author\" + 0.010*\"many\" + '\n",
      "  '0.009*\"feel\"'),\n",
      " (2,\n",
      "  '0.062*\"movie\" + 0.051*\"bad\" + 0.042*\"see\" + 0.026*\"song\" + 0.026*\"play\" + '\n",
      "  '0.025*\"film\" + 0.023*\"music\" + 0.019*\"ever\" + 0.015*\"version\" + '\n",
      "  '0.012*\"video\"'),\n",
      " (3,\n",
      "  '0.046*\"idea\" + 0.032*\"wish\" + 0.024*\"early\" + 0.023*\"power\" + 0.020*\"offer\" '\n",
      "  '+ 0.018*\"pop\" + 0.016*\"service\" + 0.016*\"notice\" + 0.014*\"husband\" + '\n",
      "  '0.013*\"thin\"'),\n",
      " (4,\n",
      "  '0.032*\"fan\" + 0.023*\"fine\" + 0.020*\"experience\" + 0.018*\"camera\" + '\n",
      "  '0.016*\"appear\" + 0.016*\"head\" + 0.015*\"result\" + 0.015*\"feature\" + '\n",
      "  '0.015*\"description\" + 0.014*\"arrive\"'),\n",
      " (5,\n",
      "  '0.024*\"light\" + 0.023*\"nice\" + 0.020*\"fall\" + 0.015*\"close\" + 0.014*\"job\" + '\n",
      "  '0.014*\"hair\" + 0.013*\"useless\" + 0.013*\"wear\" + 0.013*\"smell\" + '\n",
      "  '0.012*\"black\"'),\n",
      " (6,\n",
      "  '0.037*\"buy\" + 0.026*\"work\" + 0.020*\"product\" + 0.018*\"money\" + 0.017*\"look\" '\n",
      "  '+ 0.017*\"use\" + 0.014*\"come\" + 0.014*\"year\" + 0.013*\"purchase\" + '\n",
      "  '0.012*\"new\"'),\n",
      " (7,\n",
      "  '0.056*\"month\" + 0.040*\"send\" + 0.039*\"unit\" + 0.033*\"series\" + '\n",
      "  '0.029*\"company\" + 0.027*\"wait\" + 0.025*\"replace\" + 0.025*\"throw\" + '\n",
      "  '0.021*\"drive\" + 0.018*\"replacement\"')]\n"
     ]
    }
   ],
   "source": [
    "pprint(lda_model.print_topics())"
   ]
  },
  {
   "cell_type": "markdown",
   "metadata": {},
   "source": [
    "After much testing, we decided to extract 8 topics from our negative reviews. In the results printed above, we see the top 10 keywords contributing to each topic and their weight. Using these keywords, we tried to identify the main topic of each topic. \n",
    "\n",
    "![Topics](../Figures/topic_modeling.png)\n",
    "\n",
    "More in detail:\n",
    "\n",
    "0. `General Product Experience`: This topic reflects general experiences with products, where users discuss how they obtained the product, the time it took, and their overall judgment. Words like \"get\", \"make\", \"well\", and \"time\" indicate comments on the purchase and use of the product.\n",
    "\n",
    "1. `Books`: This topic is clearly focused on book reviews. Users talk about reading books, the plot, writing, characters, and their emotions regarding the story.\n",
    "\n",
    "2. `Movies and Music`: This topic deals with reviews of movies and music. Users express their opinions on movies and songs, commenting on the quality of the film and music, and their viewing and listening experiences.\n",
    "\n",
    "3. `Ideas and Offers`: This topic seems to be about product ideas and offers. Users discuss what they wish for in products, the service they received, and their observations and opinions.\n",
    "\n",
    "4. `Product Quality and Features`: This topic concerns the quality and features of products. Users talk about their experience with the products, camera quality, product features, and the match with the provided description.\n",
    "\n",
    "5. `Product Issues`: This topic focuses on specific issues encountered with products, such as lights, falling, job quality, hair, smells, and appearance. Users express their frustrations and dissatisfaction with these issues.\n",
    "\n",
    "6. `Product Purchase and Functionality`: This topic is about the purchase and functionality of products. Users discuss issues with the product's operation, usage, and unmet expectations regarding their purchases.\n",
    "\n",
    "7. `Replacements and Customer Service`: This topic focuses on problems with replacements and customer service. Users talk about defective units, the need for replacements, waiting times, and their overall experiences with customer service."
   ]
  },
  {
   "cell_type": "markdown",
   "metadata": {},
   "source": [
    "## Results Analysis\n",
    "\n",
    "In this section, we analyze the results obtained after dividing our dataset into 8 different classes. We carry out various types of analysis and always provide a visual representation of the results obtained.\n",
    "\n",
    "### Dominant Topic for each Review\n",
    "\n",
    "In LDA models, each document consists of multiple topics. However, typically only one of the topics is dominant. In this section, we write code to understand the dominant topic for each review.\n",
    "\n",
    "We initially define the function `format_topics_sentences`, which takes an LDA model, a text corpus, and a list of texts as input. This function allows us to obtain a DataFrame containing the main information for each document in our corpus, including the dominant topic, the percentage contribution of the dominant topic, the keywords of the topic, and the original text of the document. We then pass our model through this function, obtaining a new DataFrame called `df_dominant_topic`, in order to study its results. "
   ]
  },
  {
   "cell_type": "code",
   "execution_count": 52,
   "metadata": {},
   "outputs": [],
   "source": [
    "def format_topics_sentences(ldamodel=None, corpus=corpus, texts=data):\n",
    "    '''\n",
    "    This function formats the topics for each document in the corpus using the provided LDA model. It identifies the dominant topic in each document, along with its percentage contribution and the keywords associated with that topic. The resulting information is compiled into a DataFrame.\n",
    "\n",
    "    Parameters:\n",
    "    - ldamodel: The trained LDA model.\n",
    "    - corpus: The corpus on which the LDA model was trained.\n",
    "    - texts: The original texts of the documents.\n",
    "\n",
    "    Returns:\n",
    "    - A DataFrame where each row corresponds to a document, including the dominant topic, its percentage contribution, the keywords for that topic, and the original text.\n",
    "    '''\n",
    "    # Initialize the output DataFrame\n",
    "    sent_topics_df = pd.DataFrame()\n",
    "\n",
    "    # Get the main topic in each document\n",
    "    for i, row_list in enumerate(ldamodel[corpus]):\n",
    "        row = row_list[0] if ldamodel.per_word_topics else row_list            \n",
    "        # Sort the topics for each document by their contribution in descending order\n",
    "        row = sorted(row, key=lambda x: (x[1]), reverse=True)\n",
    "        # Get the dominant topic, percentage contribution, and keywords for each document\n",
    "        for j, (topic_num, prop_topic) in enumerate(row):\n",
    "            if j == 0:  # Dominant topic\n",
    "                wp = ldamodel.show_topic(topic_num)\n",
    "                topic_keywords = \", \".join([word for word, prop in wp])\n",
    "                # Create a temporary DataFrame and concatenate\n",
    "                temp_df = pd.DataFrame([[int(topic_num), round(prop_topic, 4), topic_keywords]], \n",
    "                                       columns=['Dominant_Topic', 'Perc_Contribution', 'Topic_Keywords'])\n",
    "                sent_topics_df = pd.concat([sent_topics_df, temp_df], ignore_index=True)\n",
    "            else:\n",
    "                break\n",
    "\n",
    "    # Add the original text to the end of the output\n",
    "    contents = pd.Series(texts)\n",
    "    sent_topics_df = pd.concat([sent_topics_df, contents], axis=1)\n",
    "    return(sent_topics_df)"
   ]
  },
  {
   "cell_type": "code",
   "execution_count": 53,
   "metadata": {},
   "outputs": [
    {
     "data": {
      "text/html": [
       "<div>\n",
       "<style scoped>\n",
       "    .dataframe tbody tr th:only-of-type {\n",
       "        vertical-align: middle;\n",
       "    }\n",
       "\n",
       "    .dataframe tbody tr th {\n",
       "        vertical-align: top;\n",
       "    }\n",
       "\n",
       "    .dataframe thead th {\n",
       "        text-align: right;\n",
       "    }\n",
       "</style>\n",
       "<table border=\"1\" class=\"dataframe\">\n",
       "  <thead>\n",
       "    <tr style=\"text-align: right;\">\n",
       "      <th></th>\n",
       "      <th>Document_No</th>\n",
       "      <th>Dominant_Topic</th>\n",
       "      <th>Topic_Perc_Contrib</th>\n",
       "      <th>Keywords</th>\n",
       "      <th>Text</th>\n",
       "    </tr>\n",
       "  </thead>\n",
       "  <tbody>\n",
       "    <tr>\n",
       "      <th>0</th>\n",
       "      <td>0</td>\n",
       "      <td>6</td>\n",
       "      <td>0.3575</td>\n",
       "      <td>buy, work, product, money, look, use, come, ye...</td>\n",
       "      <td>[look, really, nice, weird, wood, smell, retur...</td>\n",
       "    </tr>\n",
       "    <tr>\n",
       "      <th>1</th>\n",
       "      <td>1</td>\n",
       "      <td>6</td>\n",
       "      <td>0.3575</td>\n",
       "      <td>buy, work, product, money, look, use, come, ye...</td>\n",
       "      <td>[agree, buyer, say, product, good, trying, rep...</td>\n",
       "    </tr>\n",
       "    <tr>\n",
       "      <th>2</th>\n",
       "      <td>2</td>\n",
       "      <td>6</td>\n",
       "      <td>0.4391</td>\n",
       "      <td>buy, work, product, money, look, use, come, ye...</td>\n",
       "      <td>[buy, disappointed, smell, smell, beautiful, o...</td>\n",
       "    </tr>\n",
       "    <tr>\n",
       "      <th>3</th>\n",
       "      <td>3</td>\n",
       "      <td>6</td>\n",
       "      <td>0.3143</td>\n",
       "      <td>buy, work, product, money, look, use, come, ye...</td>\n",
       "      <td>[bra, definitely, hope, supportive, thin, mate...</td>\n",
       "    </tr>\n",
       "    <tr>\n",
       "      <th>4</th>\n",
       "      <td>4</td>\n",
       "      <td>6</td>\n",
       "      <td>0.3242</td>\n",
       "      <td>buy, work, product, money, look, use, come, ye...</td>\n",
       "      <td>[normally, slap, say, title, film, deserve, re...</td>\n",
       "    </tr>\n",
       "    <tr>\n",
       "      <th>5</th>\n",
       "      <td>5</td>\n",
       "      <td>1</td>\n",
       "      <td>0.6042</td>\n",
       "      <td>book, read, story, write, find, character, peo...</td>\n",
       "      <td>[disappoint, book, hail, proust, find, depth, ...</td>\n",
       "    </tr>\n",
       "    <tr>\n",
       "      <th>6</th>\n",
       "      <td>6</td>\n",
       "      <td>0</td>\n",
       "      <td>0.5676</td>\n",
       "      <td>get, good, time, make, well, go, even, think, ...</td>\n",
       "      <td>[reason, hillman, stand, band, even, singing, ...</td>\n",
       "    </tr>\n",
       "    <tr>\n",
       "      <th>7</th>\n",
       "      <td>7</td>\n",
       "      <td>0</td>\n",
       "      <td>0.4040</td>\n",
       "      <td>get, good, time, make, well, go, even, think, ...</td>\n",
       "      <td>[welllook, sucker, writen, face, todead, door,...</td>\n",
       "    </tr>\n",
       "    <tr>\n",
       "      <th>8</th>\n",
       "      <td>8</td>\n",
       "      <td>0</td>\n",
       "      <td>0.3621</td>\n",
       "      <td>get, good, time, make, well, go, even, think, ...</td>\n",
       "      <td>[fit, office, patrician, fit, say, office, flo...</td>\n",
       "    </tr>\n",
       "    <tr>\n",
       "      <th>9</th>\n",
       "      <td>9</td>\n",
       "      <td>0</td>\n",
       "      <td>0.4184</td>\n",
       "      <td>get, good, time, make, well, go, even, think, ...</td>\n",
       "      <td>[buy, use, law, work, great, want, home, want,...</td>\n",
       "    </tr>\n",
       "  </tbody>\n",
       "</table>\n",
       "</div>"
      ],
      "text/plain": [
       "   Document_No  Dominant_Topic  Topic_Perc_Contrib  \\\n",
       "0            0               6              0.3575   \n",
       "1            1               6              0.3575   \n",
       "2            2               6              0.4391   \n",
       "3            3               6              0.3143   \n",
       "4            4               6              0.3242   \n",
       "5            5               1              0.6042   \n",
       "6            6               0              0.5676   \n",
       "7            7               0              0.4040   \n",
       "8            8               0              0.3621   \n",
       "9            9               0              0.4184   \n",
       "\n",
       "                                            Keywords  \\\n",
       "0  buy, work, product, money, look, use, come, ye...   \n",
       "1  buy, work, product, money, look, use, come, ye...   \n",
       "2  buy, work, product, money, look, use, come, ye...   \n",
       "3  buy, work, product, money, look, use, come, ye...   \n",
       "4  buy, work, product, money, look, use, come, ye...   \n",
       "5  book, read, story, write, find, character, peo...   \n",
       "6  get, good, time, make, well, go, even, think, ...   \n",
       "7  get, good, time, make, well, go, even, think, ...   \n",
       "8  get, good, time, make, well, go, even, think, ...   \n",
       "9  get, good, time, make, well, go, even, think, ...   \n",
       "\n",
       "                                                Text  \n",
       "0  [look, really, nice, weird, wood, smell, retur...  \n",
       "1  [agree, buyer, say, product, good, trying, rep...  \n",
       "2  [buy, disappointed, smell, smell, beautiful, o...  \n",
       "3  [bra, definitely, hope, supportive, thin, mate...  \n",
       "4  [normally, slap, say, title, film, deserve, re...  \n",
       "5  [disappoint, book, hail, proust, find, depth, ...  \n",
       "6  [reason, hillman, stand, band, even, singing, ...  \n",
       "7  [welllook, sucker, writen, face, todead, door,...  \n",
       "8  [fit, office, patrician, fit, say, office, flo...  \n",
       "9  [buy, use, law, work, great, want, home, want,...  "
      ]
     },
     "execution_count": 53,
     "metadata": {},
     "output_type": "execute_result"
    }
   ],
   "source": [
    "# Format the topics for each document in the corpus\n",
    "df_topic_sents_keywords = format_topics_sentences(ldamodel=lda_model, corpus=corpus, texts=texts)\n",
    "\n",
    "# Format the resulting DataFrame\n",
    "df_dominant_topic = df_topic_sents_keywords.reset_index()\n",
    "df_dominant_topic.columns = ['Document_No', 'Dominant_Topic', 'Topic_Perc_Contrib', 'Keywords', 'Text']\n",
    "df_dominant_topic.head(10)\n"
   ]
  },
  {
   "cell_type": "markdown",
   "metadata": {},
   "source": [
    "### Most Representive Sentece for each Topic\n",
    "\n",
    "In this section we instead create a DataFrame, called `sentence_topics`, which contains the most representative reviews for each topic. We then print out the results."
   ]
  },
  {
   "cell_type": "code",
   "execution_count": 54,
   "metadata": {},
   "outputs": [],
   "source": [
    "# Display setting to show more characters in column\n",
    "pd.options.display.max_colwidth = 100\n",
    "\n",
    "# Initialize DataFrame to store sorted topics\n",
    "sentence_topics = pd.DataFrame()\n",
    "\n",
    "# Group by dominant topic\n",
    "sent_topics_outdf_grpd = df_topic_sents_keywords.groupby('Dominant_Topic')\n",
    "\n",
    "# Iterate over each group to find the most representative text for each topic\n",
    "for i, grp in sent_topics_outdf_grpd:\n",
    "    # Sort documents by percentage contribution to the topic in descending order and select the top document\n",
    "    sentence_topics = pd.concat([sentence_topics, \n",
    "                                             grp.sort_values(['Perc_Contribution'], ascending=False).head(1)], \n",
    "                                            axis=0)\n",
    "\n",
    "# Reset the index\n",
    "sentence_topics.reset_index(drop=True, inplace=True)\n",
    "\n",
    "# Rename columns\n",
    "sentence_topics.columns = ['Topic_Num', \"Topic_Perc_Contrib\", \"Keywords\", \"Representative Text\"]"
   ]
  },
  {
   "cell_type": "code",
   "execution_count": 56,
   "metadata": {},
   "outputs": [
    {
     "data": {
      "text/html": [
       "<div>\n",
       "<style scoped>\n",
       "    .dataframe tbody tr th:only-of-type {\n",
       "        vertical-align: middle;\n",
       "    }\n",
       "\n",
       "    .dataframe tbody tr th {\n",
       "        vertical-align: top;\n",
       "    }\n",
       "\n",
       "    .dataframe thead th {\n",
       "        text-align: right;\n",
       "    }\n",
       "</style>\n",
       "<table border=\"1\" class=\"dataframe\">\n",
       "  <thead>\n",
       "    <tr style=\"text-align: right;\">\n",
       "      <th></th>\n",
       "      <th>Topic_Num</th>\n",
       "      <th>Topic_Perc_Contrib</th>\n",
       "      <th>Keywords</th>\n",
       "      <th>Representative Text</th>\n",
       "    </tr>\n",
       "  </thead>\n",
       "  <tbody>\n",
       "    <tr>\n",
       "      <th>0</th>\n",
       "      <td>0</td>\n",
       "      <td>0.6055</td>\n",
       "      <td>get, good, time, make, well, go, even, think, really, try</td>\n",
       "      <td>[long, time, fan, really, like, octavarium, much, sure, expect, first, couple, minute, think, al...</td>\n",
       "    </tr>\n",
       "    <tr>\n",
       "      <th>1</th>\n",
       "      <td>1</td>\n",
       "      <td>0.6608</td>\n",
       "      <td>book, read, story, write, find, character, people, author, many, feel</td>\n",
       "      <td>[rarely, write, review, book, felt_compelle, write, review, book, disappointing, read, book, jod...</td>\n",
       "    </tr>\n",
       "    <tr>\n",
       "      <th>2</th>\n",
       "      <td>2</td>\n",
       "      <td>0.4934</td>\n",
       "      <td>movie, bad, see, song, play, film, music, ever, version, video</td>\n",
       "      <td>[movie, compare, dawn, dead, stylize, hollywoodize, movie, cast, movie, perfectly, cast, dawn, r...</td>\n",
       "    </tr>\n",
       "    <tr>\n",
       "      <th>3</th>\n",
       "      <td>3</td>\n",
       "      <td>0.2200</td>\n",
       "      <td>idea, wish, early, power, offer, pop, service, notice, husband, thin</td>\n",
       "      <td>[angel, cake, paying_attention, shipping, department, order, angel, cake, knife, look, afro, com...</td>\n",
       "    </tr>\n",
       "    <tr>\n",
       "      <th>4</th>\n",
       "      <td>4</td>\n",
       "      <td>0.2888</td>\n",
       "      <td>fan, fine, experience, camera, appear, head, result, feature, description, arrive</td>\n",
       "      <td>[grossly, advertised, rec, hose, clamp, envelope, display, advertised, day, order, description, ...</td>\n",
       "    </tr>\n",
       "    <tr>\n",
       "      <th>5</th>\n",
       "      <td>5</td>\n",
       "      <td>0.3111</td>\n",
       "      <td>light, nice, fall, close, job, hair, useless, wear, smell, black</td>\n",
       "      <td>[first, pro, big, bottle, smell, good, thick, con, product, call, expect, organic, content, much...</td>\n",
       "    </tr>\n",
       "    <tr>\n",
       "      <th>6</th>\n",
       "      <td>6</td>\n",
       "      <td>0.6116</td>\n",
       "      <td>buy, work, product, money, look, use, come, year, purchase, new</td>\n",
       "      <td>[disappoint, opened, package, see, canon, product, picture, compatible, cartridge, product, pict...</td>\n",
       "    </tr>\n",
       "    <tr>\n",
       "      <th>7</th>\n",
       "      <td>7</td>\n",
       "      <td>0.3616</td>\n",
       "      <td>month, send, unit, series, company, wait, replace, throw, drive, replacement</td>\n",
       "      <td>[second, bco, coffee, espresso_machine, first, work, well, month, started_leake, send, new, mont...</td>\n",
       "    </tr>\n",
       "  </tbody>\n",
       "</table>\n",
       "</div>"
      ],
      "text/plain": [
       "   Topic_Num  Topic_Perc_Contrib  \\\n",
       "0          0              0.6055   \n",
       "1          1              0.6608   \n",
       "2          2              0.4934   \n",
       "3          3              0.2200   \n",
       "4          4              0.2888   \n",
       "5          5              0.3111   \n",
       "6          6              0.6116   \n",
       "7          7              0.3616   \n",
       "\n",
       "                                                                            Keywords  \\\n",
       "0                          get, good, time, make, well, go, even, think, really, try   \n",
       "1              book, read, story, write, find, character, people, author, many, feel   \n",
       "2                     movie, bad, see, song, play, film, music, ever, version, video   \n",
       "3               idea, wish, early, power, offer, pop, service, notice, husband, thin   \n",
       "4  fan, fine, experience, camera, appear, head, result, feature, description, arrive   \n",
       "5                   light, nice, fall, close, job, hair, useless, wear, smell, black   \n",
       "6                    buy, work, product, money, look, use, come, year, purchase, new   \n",
       "7       month, send, unit, series, company, wait, replace, throw, drive, replacement   \n",
       "\n",
       "                                                                                   Representative Text  \n",
       "0  [long, time, fan, really, like, octavarium, much, sure, expect, first, couple, minute, think, al...  \n",
       "1  [rarely, write, review, book, felt_compelle, write, review, book, disappointing, read, book, jod...  \n",
       "2  [movie, compare, dawn, dead, stylize, hollywoodize, movie, cast, movie, perfectly, cast, dawn, r...  \n",
       "3  [angel, cake, paying_attention, shipping, department, order, angel, cake, knife, look, afro, com...  \n",
       "4  [grossly, advertised, rec, hose, clamp, envelope, display, advertised, day, order, description, ...  \n",
       "5  [first, pro, big, bottle, smell, good, thick, con, product, call, expect, organic, content, much...  \n",
       "6  [disappoint, opened, package, see, canon, product, picture, compatible, cartridge, product, pict...  \n",
       "7  [second, bco, coffee, espresso_machine, first, work, well, month, started_leake, send, new, mont...  "
      ]
     },
     "execution_count": 56,
     "metadata": {},
     "output_type": "execute_result"
    }
   ],
   "source": [
    "# Display the DataFrame\n",
    "sentence_topics.head(8)"
   ]
  },
  {
   "cell_type": "markdown",
   "metadata": {},
   "source": []
  },
  {
   "cell_type": "code",
   "execution_count": null,
   "metadata": {},
   "outputs": [],
   "source": [
    "doc_lens = [len(d) for d in df_dominant_topic.Text]\n",
    "\n",
    "# Plot\n",
    "plt.figure(figsize=(16,7), dpi=160)\n",
    "plt.hist(doc_lens, bins=1000, color='navy')\n",
    "plt.text(70, 100, \"Mean   : \" + str(round(np.mean(doc_lens))))\n",
    "plt.text(70, 90, \"Median : \" + str(round(np.median(doc_lens))))\n",
    "plt.text(70, 80, \"Stdev   : \" + str(round(np.std(doc_lens))))\n",
    "plt.text(70, 70, \"1%ile    : \" + str(round(np.quantile(doc_lens, q=0.01))))\n",
    "plt.text(70, 60, \"99%ile  : \" + str(round(np.quantile(doc_lens, q=0.99))))\n",
    "\n",
    "plt.gca().set(xlim=(0, 100), ylabel='Number of Documents', xlabel='Document Word Count')\n",
    "plt.tick_params(size=16)\n",
    "plt.xticks(np.linspace(0, 100, 11))\n",
    "plt.title('Distribution of Document Word Counts', fontdict=dict(size=22))\n",
    "plt.show()\n",
    "\n"
   ]
  },
  {
   "cell_type": "code",
   "execution_count": null,
   "metadata": {},
   "outputs": [],
   "source": [
    "import seaborn as sns\n",
    "import matplotlib.colors as mcolors\n",
    "\n",
    "# Ottieni una lista di colori dalla tavolozza TABLEAU_COLORS\n",
    "cols = [color for name, color in mcolors.TABLEAU_COLORS.items()]\n",
    "\n",
    "# Crea una figura con 4 subplot disposti in una griglia 2x2\n",
    "fig, axes = plt.subplots(2, 2, figsize=(16, 14), dpi=160, sharex=True, sharey=True)\n",
    "\n",
    "# Itera attraverso ciascun asse\n",
    "for i, ax in enumerate(axes.flatten()):    \n",
    "    # Filtra i documenti per il topic dominante corrente\n",
    "    df_dominant_topic_sub = df_dominant_topic.loc[df_dominant_topic.Dominant_Topic == i, :]\n",
    "    doc_lens = [len(d) for d in df_dominant_topic_sub.Text]\n",
    "    \n",
    "    # Istogramma della lunghezza dei documenti\n",
    "    ax.hist(doc_lens, bins=100, color=cols[i])\n",
    "    ax.tick_params(axis='y', labelcolor=cols[i], color=cols[i])\n",
    "    \n",
    "    # Grafico KDE (Kernel Density Estimate)\n",
    "    sns.kdeplot(doc_lens, color=\"black\", fill=False, ax=ax.twinx())\n",
    "    \n",
    "    # Imposta i limiti dell'asse x a 0-100\n",
    "    ax.set(xlim=(0, 100), xlabel='Document Word Count')\n",
    "    ax.set_ylabel('Number of Documents', color=cols[i])\n",
    "    ax.set_title('Topic: ' + str(i), fontdict=dict(size=16, color=cols[i]))\n",
    "\n",
    "# Layout e impostazioni della figura\n",
    "fig.tight_layout()\n",
    "fig.subplots_adjust(top=0.90)\n",
    "plt.xticks(np.linspace(0, 100, 11))\n",
    "fig.suptitle('Distribution of Document Word Counts by Dominant Topic', fontsize=22)\n",
    "plt.show()\n"
   ]
  },
  {
   "cell_type": "code",
   "execution_count": null,
   "metadata": {},
   "outputs": [],
   "source": [
    "# 1. Wordcloud of Top N words in each topic\n",
    "from matplotlib import pyplot as plt\n",
    "from wordcloud import WordCloud, STOPWORDS\n",
    "import matplotlib.colors as mcolors\n",
    "\n",
    "cols = [color for name, color in mcolors.TABLEAU_COLORS.items()]  # more colors: 'mcolors.XKCD_COLORS'\n",
    "\n",
    "cloud = WordCloud(stopwords=stop_words,\n",
    "                  background_color='white',\n",
    "                  width=2500,\n",
    "                  height=1800,\n",
    "                  max_words=10,\n",
    "                  colormap='tab10',\n",
    "                  color_func=lambda *args, **kwargs: cols[i],\n",
    "                  prefer_horizontal=1.0)\n",
    "\n",
    "topics = lda_model.show_topics(formatted=False)\n",
    "\n",
    "fig, axes = plt.subplots(2, 2, figsize=(10,10), sharex=True, sharey=True)\n",
    "\n",
    "for i, ax in enumerate(axes.flatten()):\n",
    "    fig.add_subplot(ax)\n",
    "    topic_words = dict(topics[i][1])\n",
    "    cloud.generate_from_frequencies(topic_words, max_font_size=300)\n",
    "    plt.gca().imshow(cloud)\n",
    "    plt.gca().set_title('Topic ' + str(i), fontdict=dict(size=16))\n",
    "    plt.gca().axis('off')\n",
    "\n",
    "\n",
    "plt.subplots_adjust(wspace=0, hspace=0)\n",
    "plt.axis('off')\n",
    "plt.margins(x=0, y=0)\n",
    "plt.tight_layout()\n",
    "plt.show()"
   ]
  },
  {
   "cell_type": "code",
   "execution_count": null,
   "metadata": {},
   "outputs": [],
   "source": [
    "from collections import Counter\n",
    "\n",
    "\n",
    "# Ottieni i topic dall'lda_model\n",
    "topics = lda_model.show_topics(formatted=False)\n",
    "\n",
    "# Unisci tutte le parole in una lista piatta\n",
    "data_flat = [w for w_list in data_ready for w in w_list]\n",
    "\n",
    "# Conta la frequenza delle parole\n",
    "counter = Counter(data_flat)\n",
    "\n",
    "# Crea un DataFrame con le parole, i topic, l'importanza e il conteggio delle parole\n",
    "out = []\n",
    "for i, topic in topics:\n",
    "    for word, weight in topic:\n",
    "        out.append([word, i, weight, counter[word]])\n",
    "\n",
    "df = pd.DataFrame(out, columns=['word', 'topic_id', 'importance', 'word_count'])\n",
    "\n",
    "# Plot del conteggio delle parole e dei pesi delle parole chiave dei topic\n",
    "fig, axes = plt.subplots(2, 2, figsize=(16, 10), sharey=True, dpi=160)\n",
    "cols = [color for name, color in mcolors.TABLEAU_COLORS.items()]\n",
    "\n",
    "for i, ax in enumerate(axes.flatten()):\n",
    "    df_topic = df.loc[df.topic_id == i, :]\n",
    "    \n",
    "    # Istogramma del conteggio delle parole\n",
    "    ax.bar(x='word', height=\"word_count\", data=df_topic, color=cols[i], width=0.5, alpha=0.3, label='Word Count')\n",
    "    ax_twin = ax.twinx()\n",
    "    \n",
    "    # Istogramma dell'importanza delle parole\n",
    "    ax_twin.bar(x='word', height=\"importance\", data=df_topic, color=cols[i], width=0.2, label='Weights')\n",
    "    \n",
    "    # Imposta le etichette degli assi\n",
    "    ax.set_ylabel('Word Count', color=cols[i])\n",
    "    ax_twin.set_ylim(0, 0.030)\n",
    "    ax.set_ylim(0, 3500)\n",
    "    ax.set_title('Topic: ' + str(i), color=cols[i], fontsize=16)\n",
    "    \n",
    "    # Imposta i tick e le etichette degli assi x\n",
    "    ax.set_xticks(range(len(df_topic['word'])))\n",
    "    ax.set_xticklabels(df_topic['word'], rotation=30, horizontalalignment='right')\n",
    "    \n",
    "    ax.tick_params(axis='y', left=False)\n",
    "    ax.legend(loc='upper left')\n",
    "    ax_twin.legend(loc='upper right')\n",
    "\n",
    "# Layout della figura\n",
    "fig.tight_layout(w_pad=2)\n",
    "fig.suptitle('Word Count and Importance of Topic Keywords', fontsize=22, y=1.05)\n",
    "plt.show()"
   ]
  },
  {
   "cell_type": "code",
   "execution_count": null,
   "metadata": {},
   "outputs": [],
   "source": [
    "# Sentence Coloring of N Sentences\n",
    "from matplotlib.patches import Rectangle\n",
    "\n",
    "def sentences_chart(lda_model=lda_model, corpus=corpus, start = 0, end = 13):\n",
    "    corp = corpus[start:end]\n",
    "    mycolors = [color for name, color in mcolors.TABLEAU_COLORS.items()]\n",
    "\n",
    "    fig, axes = plt.subplots(end-start, 1, figsize=(20, (end-start)*0.95), dpi=160)       \n",
    "    axes[0].axis('off')\n",
    "    for i, ax in enumerate(axes):\n",
    "        if i > 0:\n",
    "            corp_cur = corp[i-1] \n",
    "            topic_percs, wordid_topics, wordid_phivalues = lda_model[corp_cur]\n",
    "            word_dominanttopic = [(lda_model.id2word[wd], topic[0]) for wd, topic in wordid_topics]    \n",
    "            ax.text(0.01, 0.5, \"Doc \" + str(i-1) + \": \", verticalalignment='center',\n",
    "                    fontsize=16, color='black', transform=ax.transAxes, fontweight=700)\n",
    "\n",
    "            # Draw Rectange\n",
    "            topic_percs_sorted = sorted(topic_percs, key=lambda x: (x[1]), reverse=True)\n",
    "            ax.add_patch(Rectangle((0.0, 0.05), 0.99, 0.90, fill=None, alpha=1, \n",
    "                                   color=mycolors[topic_percs_sorted[0][0]], linewidth=2))\n",
    "\n",
    "            word_pos = 0.06\n",
    "            for j, (word, topics) in enumerate(word_dominanttopic):\n",
    "                if j < 14:\n",
    "                    ax.text(word_pos, 0.5, word,\n",
    "                            horizontalalignment='left',\n",
    "                            verticalalignment='center',\n",
    "                            fontsize=16, color=mycolors[topics],\n",
    "                            transform=ax.transAxes, fontweight=700)\n",
    "                    word_pos += .009 * len(word)  # to move the word for the next iter\n",
    "                    ax.axis('off')\n",
    "            ax.text(word_pos, 0.5, '. . .',\n",
    "                    horizontalalignment='left',\n",
    "                    verticalalignment='center',\n",
    "                    fontsize=16, color='black',\n",
    "                    transform=ax.transAxes)       \n",
    "\n",
    "    plt.subplots_adjust(wspace=0, hspace=0)\n",
    "    plt.suptitle('Sentence Topic Coloring for Documents: ' + str(start) + ' to ' + str(end-2), fontsize=22, y=0.95, fontweight=700)\n",
    "    plt.tight_layout()\n",
    "    plt.show()\n",
    "\n",
    "sentences_chart()    "
   ]
  },
  {
   "cell_type": "code",
   "execution_count": null,
   "metadata": {},
   "outputs": [],
   "source": [
    "# Sentence Coloring of N Sentences\n",
    "def topics_per_document(model, corpus, start=0, end=1):\n",
    "    corpus_sel = corpus[start:end]\n",
    "    dominant_topics = []\n",
    "    topic_percentages = []\n",
    "    for i, corp in enumerate(corpus_sel):\n",
    "        topic_percs, wordid_topics, wordid_phivalues = model[corp]\n",
    "        dominant_topic = sorted(topic_percs, key = lambda x: x[1], reverse=True)[0][0]\n",
    "        dominant_topics.append((i, dominant_topic))\n",
    "        topic_percentages.append(topic_percs)\n",
    "    return(dominant_topics, topic_percentages)\n",
    "\n",
    "dominant_topics, topic_percentages = topics_per_document(model=lda_model, corpus=corpus, end=-1)            \n",
    "\n",
    "# Distribution of Dominant Topics in Each Document\n",
    "df = pd.DataFrame(dominant_topics, columns=['Document_Id', 'Dominant_Topic'])\n",
    "dominant_topic_in_each_doc = df.groupby('Dominant_Topic').size()\n",
    "df_dominant_topic_in_each_doc = dominant_topic_in_each_doc.to_frame(name='count').reset_index()\n",
    "\n",
    "# Total Topic Distribution by actual weight\n",
    "topic_weightage_by_doc = pd.DataFrame([dict(t) for t in topic_percentages])\n",
    "df_topic_weightage_by_doc = topic_weightage_by_doc.sum().to_frame(name='count').reset_index()\n",
    "\n",
    "# Top 3 Keywords for each Topic\n",
    "topic_top3words = [(i, topic) for i, topics in lda_model.show_topics(formatted=False) \n",
    "                                 for j, (topic, wt) in enumerate(topics) if j < 3]\n",
    "\n",
    "df_top3words_stacked = pd.DataFrame(topic_top3words, columns=['topic_id', 'words'])\n",
    "df_top3words = df_top3words_stacked.groupby('topic_id').agg(', \\n'.join)\n",
    "df_top3words.reset_index(level=0,inplace=True)"
   ]
  },
  {
   "cell_type": "code",
   "execution_count": null,
   "metadata": {},
   "outputs": [],
   "source": [
    "from matplotlib.ticker import FuncFormatter\n",
    "\n",
    "# Plot\n",
    "fig, (ax1, ax2) = plt.subplots(1, 2, figsize=(10, 4), dpi=120, sharey=True)\n",
    "\n",
    "# Topic Distribution by Dominant Topics\n",
    "ax1.bar(x='Dominant_Topic', height='count', data=df_dominant_topic_in_each_doc, width=.5, color='firebrick')\n",
    "ax1.set_xticks(range(df_dominant_topic_in_each_doc.Dominant_Topic.unique().__len__()))\n",
    "tick_formatter = FuncFormatter(lambda x, pos: 'Topic ' + str(x)+ '\\n' + df_top3words.loc[df_top3words.topic_id==x, 'words'].values[0])\n",
    "ax1.xaxis.set_major_formatter(tick_formatter)\n",
    "ax1.set_title('Number of Documents by Dominant Topic', fontdict=dict(size=10))\n",
    "ax1.set_ylabel('Number of Documents')\n",
    "ax1.set_ylim(0, 1000)\n",
    "\n",
    "# Topic Distribution by Topic Weights\n",
    "ax2.bar(x='index', height='count', data=df_topic_weightage_by_doc, width=.5, color='steelblue')\n",
    "ax2.set_xticks(range(df_topic_weightage_by_doc.index.unique().__len__()))\n",
    "ax2.xaxis.set_major_formatter(tick_formatter)\n",
    "ax2.set_title('Number of Documents by Topic Weightage', fontdict=dict(size=10))\n",
    "\n",
    "plt.show()"
   ]
  },
  {
   "cell_type": "code",
   "execution_count": null,
   "metadata": {},
   "outputs": [],
   "source": [
    "# Get topic weights and dominant topics ------------\n",
    "from sklearn.manifold import TSNE\n",
    "from bokeh.plotting import figure, output_file, show\n",
    "from bokeh.models import Label\n",
    "from bokeh.io import output_notebook\n",
    "\n",
    "# Get topic weights\n",
    "topic_weights = []\n",
    "for i, row_list in enumerate(lda_model[corpus]):\n",
    "    topic_weights.append([w for i, w in row_list[0]])\n",
    "\n",
    "# Array of topic weights    \n",
    "arr = pd.DataFrame(topic_weights).fillna(0).values\n",
    "\n",
    "# Keep the well separated points (optional)\n",
    "arr = arr[np.amax(arr, axis=1) > 0.35]\n",
    "\n",
    "# Dominant topic number in each doc\n",
    "topic_num = np.argmax(arr, axis=1)\n",
    "\n",
    "# tSNE Dimension Reduction\n",
    "tsne_model = TSNE(n_components=2, verbose=1, random_state=0, angle=.99, init='pca')\n",
    "tsne_lda = tsne_model.fit_transform(arr)\n",
    "\n",
    "# Plot the Topic Clusters using Bokeh\n",
    "output_notebook()\n",
    "n_topics = 4\n",
    "mycolors = np.array([color for name, color in mcolors.TABLEAU_COLORS.items()])\n",
    "plot = figure(title=\"t-SNE Clustering of {} LDA Topics\".format(n_topics), \n",
    "              width=900, height=700)\n",
    "plot.scatter(x=tsne_lda[:,0], y=tsne_lda[:,1], color=mycolors[topic_num])\n",
    "show(plot)"
   ]
  },
  {
   "cell_type": "code",
   "execution_count": null,
   "metadata": {},
   "outputs": [],
   "source": [
    "import pyLDAvis.gensim\n",
    "pyLDAvis.enable_notebook()\n",
    "vis = pyLDAvis.gensim.prepare(lda_model, corpus, dictionary=lda_model.id2word)\n",
    "vis"
   ]
  }
 ],
 "metadata": {
  "kernelspec": {
   "display_name": "Python 3",
   "language": "python",
   "name": "python3"
  },
  "language_info": {
   "codemirror_mode": {
    "name": "ipython",
    "version": 3
   },
   "file_extension": ".py",
   "mimetype": "text/x-python",
   "name": "python",
   "nbconvert_exporter": "python",
   "pygments_lexer": "ipython3",
   "version": "3.11.3"
  }
 },
 "nbformat": 4,
 "nbformat_minor": 2
}
